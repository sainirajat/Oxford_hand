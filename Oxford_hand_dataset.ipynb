{
 "cells": [
  {
   "cell_type": "code",
   "execution_count": 1,
   "metadata": {},
   "outputs": [],
   "source": [
    "import numpy as np\n",
    "import scipy.io as sio\n",
    "import pandas as pd\n",
    "import os\n",
    "# import matplotlib.pyplot as plt"
   ]
  },
  {
   "cell_type": "code",
   "execution_count": 2,
   "metadata": {},
   "outputs": [],
   "source": [
    "# mat = scipy.io.loadmat('/Users/rajatsaini/Desktop/Archive/hand_dataset/training_dataset/training_data/annotations/Buffy_1.mat')"
   ]
  },
  {
   "cell_type": "code",
   "execution_count": 3,
   "metadata": {},
   "outputs": [
    {
     "name": "stdout",
     "output_type": "stream",
     "text": [
      "4069\n"
     ]
    }
   ],
   "source": [
    "dataDir = \"/Users/rajatsaini/Desktop/Archive/Oxford_hand_data/training_dataset/training_data/annotations/\"\n",
    "mats = []\n",
    "count = 0\n",
    "\n",
    "for file_path in os.listdir(dataDir):\n",
    "    if file_path.startswith('.'):\n",
    "        continue\n",
    "#     print file_path\n",
    "    data = sio.loadmat(dataDir+file_path)\n",
    "    mats.append(data)\n",
    "print (len(mats))\n",
    "    \n",
    "    "
   ]
  },
  {
   "cell_type": "code",
   "execution_count": 4,
   "metadata": {},
   "outputs": [
    {
     "name": "stdout",
     "output_type": "stream",
     "text": [
      "{'boxes': array([[ array([[ (array([[ 488.42954942,  345.62261032]]), array([[ 461.57045058,  348.37738968]]), array([[ 465.57045058,  387.37738968]]), array([[ 492.42954942,  384.62261032]]))]],\n",
      "      dtype=[('a', 'O'), ('b', 'O'), ('c', 'O'), ('d', 'O')]),\n",
      "        array([[ (array([[ 449.81237318,  397.24488989]]), array([[ 462.18762682,  426.75511011]]), array([[ 493.18762682,  413.75511011]]), array([[ 480.81237318,  384.24488989]]))]],\n",
      "      dtype=[('a', 'O'), ('b', 'O'), ('c', 'O'), ('d', 'O')])]], dtype=object), '__version__': '1.0', '__header__': 'MATLAB 5.0 MAT-file, Platform: MACI, Created on: Mon Jul 18 17:41:20 2011', '__globals__': []}\n"
     ]
    }
   ],
   "source": [
    "print mats[0]"
   ]
  },
  {
   "cell_type": "code",
   "execution_count": 5,
   "metadata": {},
   "outputs": [],
   "source": [
    "image_path = \"/Users/rajatsaini/Desktop/Archive/Oxford_hand_data/training_dataset/training_data/images/\""
   ]
  },
  {
   "cell_type": "code",
   "execution_count": 6,
   "metadata": {},
   "outputs": [
    {
     "name": "stdout",
     "output_type": "stream",
     "text": [
      "4069\n"
     ]
    }
   ],
   "source": [
    "images = []\n",
    "paths = []\n",
    "for path in os.listdir(image_path):\n",
    "    if path.startswith('.'):\n",
    "        continue\n",
    "#     print \n",
    "    data = path\n",
    "    paths.append(image_path+data)\n",
    "    images.append(data)\n",
    "print len(images)\n",
    "# print "
   ]
  },
  {
   "cell_type": "code",
   "execution_count": 7,
   "metadata": {},
   "outputs": [
    {
     "name": "stdout",
     "output_type": "stream",
     "text": [
      "Buffy_1.jpg\n",
      "/Users/rajatsaini/Desktop/Archive/Oxford_hand_data/training_dataset/training_data/images/Buffy_1.jpg\n"
     ]
    }
   ],
   "source": [
    "print images[0]\n",
    "print paths[0]"
   ]
  },
  {
   "cell_type": "code",
   "execution_count": 8,
   "metadata": {},
   "outputs": [],
   "source": [
    "from PIL import Image as PImage"
   ]
  },
  {
   "cell_type": "code",
   "execution_count": 9,
   "metadata": {},
   "outputs": [],
   "source": [
    "# loadedImages = []\n",
    "# for path in paths:\n",
    "#     print path\n",
    "#     #img = PImage.open(path)\n",
    "#     loadedImages.append(path)\n",
    "    \n",
    "# print len(loadedImages)\n",
    "#     print PImage.open?\n",
    "#     imagesList = listdir(path)\n",
    "#     img = PImage.open(path + )\n",
    "#     for image in imagesList:\n",
    "#         img = PImage.open(path + image)\n",
    "#         loadedImages.append(img)\n",
    "\n",
    "#     return loadedImages"
   ]
  },
  {
   "cell_type": "code",
   "execution_count": 10,
   "metadata": {},
   "outputs": [],
   "source": [
    "#     print PImage.open"
   ]
  },
  {
   "cell_type": "code",
   "execution_count": 11,
   "metadata": {},
   "outputs": [
    {
     "name": "stdout",
     "output_type": "stream",
     "text": [
      "{'boxes': array([[ array([[ (array([[ 488.42954942,  345.62261032]]), array([[ 461.57045058,  348.37738968]]), array([[ 465.57045058,  387.37738968]]), array([[ 492.42954942,  384.62261032]]))]],\n",
      "      dtype=[('a', 'O'), ('b', 'O'), ('c', 'O'), ('d', 'O')]),\n",
      "        array([[ (array([[ 449.81237318,  397.24488989]]), array([[ 462.18762682,  426.75511011]]), array([[ 493.18762682,  413.75511011]]), array([[ 480.81237318,  384.24488989]]))]],\n",
      "      dtype=[('a', 'O'), ('b', 'O'), ('c', 'O'), ('d', 'O')])]], dtype=object), '__version__': '1.0', '__header__': 'MATLAB 5.0 MAT-file, Platform: MACI, Created on: Mon Jul 18 17:41:20 2011', '__globals__': []}\n",
      "<type 'dict'>\n"
     ]
    }
   ],
   "source": [
    "print mats[0]\n",
    "print type(mats[0])"
   ]
  },
  {
   "cell_type": "code",
   "execution_count": 12,
   "metadata": {},
   "outputs": [
    {
     "name": "stdout",
     "output_type": "stream",
     "text": [
      "[[[[ (array([[ 488.42954942,  345.62261032]]), array([[ 461.57045058,  348.37738968]]), array([[ 465.57045058,  387.37738968]]), array([[ 492.42954942,  384.62261032]]))]]\n",
      "\n",
      "  [[ (array([[ 449.81237318,  397.24488989]]), array([[ 462.18762682,  426.75511011]]), array([[ 493.18762682,  413.75511011]]), array([[ 480.81237318,  384.24488989]]))]]]] --pp\n",
      "[[ (array([[ 488.42954942,  345.62261032]]), array([[ 461.57045058,  348.37738968]]), array([[ 465.57045058,  387.37738968]]), array([[ 492.42954942,  384.62261032]]))]] ------\n",
      "[[ (array([[ 449.81237318,  397.24488989]]), array([[ 462.18762682,  426.75511011]]), array([[ 493.18762682,  413.75511011]]), array([[ 480.81237318,  384.24488989]]))]] ------\n"
     ]
    }
   ],
   "source": [
    "# print mats[0]['boxes']\n",
    "full_list = []\n",
    "a = np.array((mats[0]['boxes']).tolist())\n",
    "print a,\"--pp\"\n",
    "for iterate in a:\n",
    "    for iterate2 in iterate:\n",
    "        print iterate2,\"------\"\n",
    "        full_list.append(np.array(iterate2))"
   ]
  },
  {
   "cell_type": "code",
   "execution_count": 13,
   "metadata": {},
   "outputs": [
    {
     "name": "stdout",
     "output_type": "stream",
     "text": [
      "[array([[ (array([[ 488.42954942,  345.62261032]]), array([[ 461.57045058,  348.37738968]]), array([[ 465.57045058,  387.37738968]]), array([[ 492.42954942,  384.62261032]]))]],\n",
      "      dtype=[('a', 'O'), ('b', 'O'), ('c', 'O'), ('d', 'O')]), array([[ (array([[ 449.81237318,  397.24488989]]), array([[ 462.18762682,  426.75511011]]), array([[ 493.18762682,  413.75511011]]), array([[ 480.81237318,  384.24488989]]))]],\n",
      "      dtype=[('a', 'O'), ('b', 'O'), ('c', 'O'), ('d', 'O')])]\n"
     ]
    }
   ],
   "source": [
    "print full_list"
   ]
  },
  {
   "cell_type": "code",
   "execution_count": null,
   "metadata": {},
   "outputs": [],
   "source": []
  },
  {
   "cell_type": "code",
   "execution_count": null,
   "metadata": {},
   "outputs": [],
   "source": []
  },
  {
   "cell_type": "code",
   "execution_count": 14,
   "metadata": {},
   "outputs": [
    {
     "name": "stdout",
     "output_type": "stream",
     "text": [
      "{'boxes': array([[ array([[ (array([[ 488.42954942,  345.62261032]]), array([[ 461.57045058,  348.37738968]]), array([[ 465.57045058,  387.37738968]]), array([[ 492.42954942,  384.62261032]]))]],\n",
      "      dtype=[('a', 'O'), ('b', 'O'), ('c', 'O'), ('d', 'O')]),\n",
      "        array([[ (array([[ 449.81237318,  397.24488989]]), array([[ 462.18762682,  426.75511011]]), array([[ 493.18762682,  413.75511011]]), array([[ 480.81237318,  384.24488989]]))]],\n",
      "      dtype=[('a', 'O'), ('b', 'O'), ('c', 'O'), ('d', 'O')])]], dtype=object), '__version__': '1.0', '__header__': 'MATLAB 5.0 MAT-file, Platform: MACI, Created on: Mon Jul 18 17:41:20 2011', '__globals__': []}\n"
     ]
    }
   ],
   "source": [
    "print mats[0]"
   ]
  },
  {
   "cell_type": "code",
   "execution_count": 15,
   "metadata": {},
   "outputs": [
    {
     "name": "stdout",
     "output_type": "stream",
     "text": [
      "[[ array([[ (array([[ 488.42954942,  345.62261032]]), array([[ 461.57045058,  348.37738968]]), array([[ 465.57045058,  387.37738968]]), array([[ 492.42954942,  384.62261032]]))]],\n",
      "      dtype=[('a', 'O'), ('b', 'O'), ('c', 'O'), ('d', 'O')])\n",
      "  array([[ (array([[ 449.81237318,  397.24488989]]), array([[ 462.18762682,  426.75511011]]), array([[ 493.18762682,  413.75511011]]), array([[ 480.81237318,  384.24488989]]))]],\n",
      "      dtype=[('a', 'O'), ('b', 'O'), ('c', 'O'), ('d', 'O')])]]\n"
     ]
    }
   ],
   "source": [
    "print mats[0]['boxes']"
   ]
  },
  {
   "cell_type": "code",
   "execution_count": 16,
   "metadata": {},
   "outputs": [
    {
     "name": "stdout",
     "output_type": "stream",
     "text": [
      "<type 'numpy.ndarray'>\n",
      "4069\n"
     ]
    }
   ],
   "source": [
    "print type(mats[0]['boxes'])\n",
    "print len(mats)"
   ]
  },
  {
   "cell_type": "code",
   "execution_count": 17,
   "metadata": {},
   "outputs": [
    {
     "name": "stdout",
     "output_type": "stream",
     "text": [
      "4069\n",
      "[[ array([[ (array([[ 488.42954942,  345.62261032]]), array([[ 461.57045058,  348.37738968]]), array([[ 465.57045058,  387.37738968]]), array([[ 492.42954942,  384.62261032]]))]],\n",
      "      dtype=[('a', 'O'), ('b', 'O'), ('c', 'O'), ('d', 'O')])\n",
      "  array([[ (array([[ 449.81237318,  397.24488989]]), array([[ 462.18762682,  426.75511011]]), array([[ 493.18762682,  413.75511011]]), array([[ 480.81237318,  384.24488989]]))]],\n",
      "      dtype=[('a', 'O'), ('b', 'O'), ('c', 'O'), ('d', 'O')])]]\n",
      "<type 'list'>\n",
      "<type 'numpy.ndarray'>\n"
     ]
    }
   ],
   "source": [
    "new_mats = []\n",
    "\n",
    "for ix in range(len(mats)):\n",
    "    temp = mats[ix]['boxes']\n",
    "    new_mats.append(temp)\n",
    "    \n",
    "print len(new_mats)\n",
    "print new_mats[0]\n",
    "print type(new_mats)\n",
    "print type(new_mats[0])"
   ]
  },
  {
   "cell_type": "code",
   "execution_count": 18,
   "metadata": {},
   "outputs": [
    {
     "name": "stdout",
     "output_type": "stream",
     "text": [
      "4069\n"
     ]
    }
   ],
   "source": [
    "print len(new_mats)"
   ]
  },
  {
   "cell_type": "code",
   "execution_count": 19,
   "metadata": {},
   "outputs": [
    {
     "name": "stdout",
     "output_type": "stream",
     "text": [
      "(4069,)\n"
     ]
    }
   ],
   "source": [
    "# count =0\n",
    "hands = []\n",
    "very_new_mats = np.zeros(len(new_mats))\n",
    "print very_new_mats.shape\n",
    "\n",
    "for ix in range(len(new_mats)):\n",
    "    cells=[]\n",
    "    for cell in new_mats[ix].flat:\n",
    "        count = count + 1\n",
    "#         print cell,\"---\"\n",
    "#         print cell.shape\n",
    "        cells.append(cell)\n",
    "#     print \"+++++++++++++++++++\"\n",
    "    hands.append(cells)\n",
    "# print count"
   ]
  },
  {
   "cell_type": "code",
   "execution_count": 20,
   "metadata": {},
   "outputs": [
    {
     "name": "stdout",
     "output_type": "stream",
     "text": [
      "2\n",
      "[array([[ (array([[ 488.42954942,  345.62261032]]), array([[ 461.57045058,  348.37738968]]), array([[ 465.57045058,  387.37738968]]), array([[ 492.42954942,  384.62261032]]))]],\n",
      "      dtype=[('a', 'O'), ('b', 'O'), ('c', 'O'), ('d', 'O')]), array([[ (array([[ 449.81237318,  397.24488989]]), array([[ 462.18762682,  426.75511011]]), array([[ 493.18762682,  413.75511011]]), array([[ 480.81237318,  384.24488989]]))]],\n",
      "      dtype=[('a', 'O'), ('b', 'O'), ('c', 'O'), ('d', 'O')])]\n"
     ]
    }
   ],
   "source": [
    "print len(hands[0])\n",
    "print hands[0]"
   ]
  },
  {
   "cell_type": "code",
   "execution_count": 21,
   "metadata": {},
   "outputs": [],
   "source": [
    "f= open(\"annotation1.txt\",\"w+\")"
   ]
  },
  {
   "cell_type": "code",
   "execution_count": 22,
   "metadata": {},
   "outputs": [],
   "source": [
    "new_images = []"
   ]
  },
  {
   "cell_type": "code",
   "execution_count": 23,
   "metadata": {},
   "outputs": [],
   "source": [
    "for ix in paths:\n",
    "#     print ix,\"\\n\"\n",
    "    temp = ix.split('/')\n",
    "#     print temp,\"----------\"\n",
    "    temp2 = '/'.join(temp[5:])\n",
    "#     print temp2\n",
    "    new_images.append(temp2)"
   ]
  },
  {
   "cell_type": "code",
   "execution_count": 24,
   "metadata": {},
   "outputs": [
    {
     "name": "stdout",
     "output_type": "stream",
     "text": [
      "Oxford_hand_data/training_dataset/training_data/images/Buffy_1.jpg\n"
     ]
    }
   ],
   "source": [
    "print new_images[0]"
   ]
  },
  {
   "cell_type": "code",
   "execution_count": null,
   "metadata": {},
   "outputs": [],
   "source": []
  },
  {
   "cell_type": "code",
   "execution_count": 25,
   "metadata": {},
   "outputs": [],
   "source": [
    "def find_min_max_height_width(a1,a2,a3,a4):\n",
    "    max_y = max(a1[1],a2[1],a3[1],a4[1])\n",
    "    max_x = max(a1[0],a2[0],a3[0],a4[0])\n",
    "    min_x = min(a1[0],a2[0],a3[0],a4[0])\n",
    "    min_y = min(a1[1],a2[1],a3[1],a4[1])\n",
    "    \n",
    "    height = max_y-min_y\n",
    "    width = max_x-min_x\n",
    "#     print min_x,min_y,height,width\n",
    "    return min_x,min_y,height,width\n",
    "    "
   ]
  },
  {
   "cell_type": "code",
   "execution_count": 26,
   "metadata": {},
   "outputs": [
    {
     "ename": "TypeError",
     "evalue": "'NoneType' object is not iterable",
     "output_type": "error",
     "traceback": [
      "\u001b[0;31m---------------------------------------------------------------------------\u001b[0m",
      "\u001b[0;31mTypeError\u001b[0m                                 Traceback (most recent call last)",
      "\u001b[0;32m<ipython-input-26-1b8f72270d5b>\u001b[0m in \u001b[0;36m<module>\u001b[0;34m()\u001b[0m\n\u001b[1;32m     19\u001b[0m             \u001b[0maa4\u001b[0m \u001b[0;34m=\u001b[0m \u001b[0mipp\u001b[0m\u001b[0;34m\u001b[0m\u001b[0m\n\u001b[1;32m     20\u001b[0m \u001b[0;34m\u001b[0m\u001b[0m\n\u001b[0;32m---> 21\u001b[0;31m         \u001b[0mmin_x\u001b[0m\u001b[0;34m,\u001b[0m\u001b[0mmin_y\u001b[0m\u001b[0;34m,\u001b[0m\u001b[0mheight\u001b[0m\u001b[0;34m,\u001b[0m\u001b[0mwidth\u001b[0m\u001b[0;34m=\u001b[0m\u001b[0mfind_min_max_height_width\u001b[0m\u001b[0;34m(\u001b[0m\u001b[0maa1\u001b[0m\u001b[0;34m,\u001b[0m\u001b[0maa2\u001b[0m\u001b[0;34m,\u001b[0m\u001b[0maa3\u001b[0m\u001b[0;34m,\u001b[0m\u001b[0maa4\u001b[0m\u001b[0;34m)\u001b[0m\u001b[0;34m\u001b[0m\u001b[0m\n\u001b[0m\u001b[1;32m     22\u001b[0m         \u001b[0mf\u001b[0m\u001b[0;34m.\u001b[0m\u001b[0mwrite\u001b[0m\u001b[0;34m(\u001b[0m\u001b[0mstr\u001b[0m\u001b[0;34m(\u001b[0m\u001b[0mmin_x\u001b[0m\u001b[0;34m)\u001b[0m\u001b[0;34m+\u001b[0m\u001b[0;34m\",\"\u001b[0m\u001b[0;34m+\u001b[0m\u001b[0mstr\u001b[0m\u001b[0;34m(\u001b[0m\u001b[0mmin_y\u001b[0m\u001b[0;34m)\u001b[0m\u001b[0;34m+\u001b[0m\u001b[0;34m\",\"\u001b[0m\u001b[0;34m+\u001b[0m\u001b[0mstr\u001b[0m\u001b[0;34m(\u001b[0m\u001b[0mheight\u001b[0m\u001b[0;34m)\u001b[0m\u001b[0;34m+\u001b[0m\u001b[0;34m\",\"\u001b[0m\u001b[0;34m+\u001b[0m\u001b[0mstr\u001b[0m\u001b[0;34m(\u001b[0m\u001b[0mwidth\u001b[0m\u001b[0;34m)\u001b[0m\u001b[0;34m+\u001b[0m\u001b[0;34m\";\"\u001b[0m\u001b[0;34m)\u001b[0m\u001b[0;34m\u001b[0m\u001b[0m\n\u001b[1;32m     23\u001b[0m \u001b[0;31m#         if(ip[0][0]['a'][0]<ip[0][0]['b'][0] and ip[0][0]['a'][0] < ip[0][0]['c'][0] and ip[0][0]['a'][0] < ip[0][0]['d'][0]):\u001b[0m\u001b[0;34m\u001b[0m\u001b[0;34m\u001b[0m\u001b[0m\n",
      "\u001b[0;31mTypeError\u001b[0m: 'NoneType' object is not iterable"
     ]
    }
   ],
   "source": [
    "for ix in range(len(hands)):\n",
    "    f.write(new_images[ix])\n",
    "    for ip in hands[ix]:\n",
    "        for ipp in ip[0][0]['a']:\n",
    "\n",
    "#             print ipp,\"--\"\n",
    "            aa1 = ipp\n",
    "    \n",
    "        for ipp in ip[0][0]['b']:\n",
    "#             print ipp\n",
    "            aa2 = ipp\n",
    "    \n",
    "        for ipp in ip[0][0]['c']:\n",
    "#             print ipp\n",
    "            aa3 = ipp\n",
    "    \n",
    "        for ipp in ip[0][0]['d']:\n",
    "#             print ipp\n",
    "            aa4 = ipp\n",
    "        \n",
    "        min_x,min_y,height,width=find_min_max_height_width(aa1,aa2,aa3,aa4)\n",
    "        f.write(str(min_x)+\",\"+str(min_y)+\",\"+str(height)+\",\"+str(width)+\";\")\n",
    "#         if(ip[0][0]['a'][0]<ip[0][0]['b'][0] and ip[0][0]['a'][0] < ip[0][0]['c'][0] and ip[0][0]['a'][0] < ip[0][0]['d'][0]):\n",
    "#             xmin = ip[0][0]['a'][0]\n",
    "#         if(ip[0][0]['a'][1]<ip[0][0]['b'][1] and ip[0][0]['a'][1] <ip[0][0]['c'][1] and ip[0][0]['a'][1] < ip[0][0]['d'][1]):\n",
    "#             ymin = ip[0][0]['a'][1]\n",
    "        \n",
    "#         print \"++\"\n",
    "#     print\"___________________________________\"\n",
    "    f.write(\"\\n\")\n",
    "f.close()\n",
    "    \n",
    "    \n",
    "# now find the x_min y_min height and width then place it in csv"
   ]
  },
  {
   "cell_type": "code",
   "execution_count": null,
   "metadata": {},
   "outputs": [],
   "source": []
  }
 ],
 "metadata": {
  "kernelspec": {
   "display_name": "Python 2",
   "language": "python",
   "name": "python2"
  },
  "language_info": {
   "codemirror_mode": {
    "name": "ipython",
    "version": 2
   },
   "file_extension": ".py",
   "mimetype": "text/x-python",
   "name": "python",
   "nbconvert_exporter": "python",
   "pygments_lexer": "ipython2",
   "version": "2.7.14"
  }
 },
 "nbformat": 4,
 "nbformat_minor": 2
}
