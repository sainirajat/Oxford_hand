{
 "cells": [
  {
   "cell_type": "code",
   "execution_count": 1,
   "metadata": {},
   "outputs": [],
   "source": [
    "import numpy as np\n",
    "import scipy.io as sio\n",
    "import pandas as pd\n",
    "import os\n",
    "# import matplotlib.pyplot as plt"
   ]
  },
  {
   "cell_type": "code",
   "execution_count": 2,
   "metadata": {},
   "outputs": [],
   "source": [
    "# mat = scipy.io.loadmat('/Users/rajatsaini/Desktop/Archive/hand_dataset/training_dataset/training_data/annotations/Buffy_1.mat')"
   ]
  },
  {
   "cell_type": "code",
   "execution_count": 3,
   "metadata": {},
   "outputs": [
    {
     "name": "stdout",
     "output_type": "stream",
     "text": [
      "4069\n"
     ]
    }
   ],
   "source": [
    "dataDir = \"/Users/rajatsaini/Desktop/Archive/hand_dataset/training_dataset/training_data/annotations/\"\n",
    "mats = []\n",
    "count = 0\n",
    "\n",
    "for file_path in os.listdir(dataDir):\n",
    "    if file_path.startswith('.'):\n",
    "        continue\n",
    "#     print file_path\n",
    "    data = sio.loadmat(dataDir+file_path)\n",
    "    mats.append(data)\n",
    "print (len(mats))\n",
    "    \n",
    "    "
   ]
  },
  {
   "cell_type": "code",
   "execution_count": 4,
   "metadata": {},
   "outputs": [
    {
     "name": "stdout",
     "output_type": "stream",
     "text": [
      "{'boxes': array([[ array([[ (array([[ 488.42954942,  345.62261032]]), array([[ 461.57045058,  348.37738968]]), array([[ 465.57045058,  387.37738968]]), array([[ 492.42954942,  384.62261032]]))]],\n",
      "      dtype=[('a', 'O'), ('b', 'O'), ('c', 'O'), ('d', 'O')]),\n",
      "        array([[ (array([[ 449.81237318,  397.24488989]]), array([[ 462.18762682,  426.75511011]]), array([[ 493.18762682,  413.75511011]]), array([[ 480.81237318,  384.24488989]]))]],\n",
      "      dtype=[('a', 'O'), ('b', 'O'), ('c', 'O'), ('d', 'O')])]], dtype=object), '__version__': '1.0', '__header__': 'MATLAB 5.0 MAT-file, Platform: MACI, Created on: Mon Jul 18 17:41:20 2011', '__globals__': []}\n"
     ]
    }
   ],
   "source": [
    "print mats[0]"
   ]
  },
  {
   "cell_type": "code",
   "execution_count": 5,
   "metadata": {},
   "outputs": [],
   "source": [
    "image_path = \"/Users/rajatsaini/Desktop/Archive/hand_dataset/training_dataset/training_data/images/\""
   ]
  },
  {
   "cell_type": "code",
   "execution_count": 6,
   "metadata": {},
   "outputs": [
    {
     "name": "stdout",
     "output_type": "stream",
     "text": [
      "4069\n"
     ]
    }
   ],
   "source": [
    "images = []\n",
    "paths = []\n",
    "for path in os.listdir(image_path):\n",
    "    if path.startswith('.'):\n",
    "        continue\n",
    "#     print \n",
    "    data = path\n",
    "    paths.append(image_path+data)\n",
    "    images.append(data)\n",
    "print len(images)\n",
    "# print "
   ]
  },
  {
   "cell_type": "code",
   "execution_count": 7,
   "metadata": {},
   "outputs": [
    {
     "name": "stdout",
     "output_type": "stream",
     "text": [
      "Buffy_1.jpg\n",
      "/Users/rajatsaini/Desktop/Archive/hand_dataset/training_dataset/training_data/images/Buffy_1.jpg\n"
     ]
    }
   ],
   "source": [
    "print images[0]\n",
    "print paths[0]"
   ]
  },
  {
   "cell_type": "code",
   "execution_count": 8,
   "metadata": {},
   "outputs": [],
   "source": [
    "from PIL import Image as PImage"
   ]
  },
  {
   "cell_type": "code",
   "execution_count": 9,
   "metadata": {},
   "outputs": [],
   "source": [
    "# loadedImages = []\n",
    "# for path in paths:\n",
    "#     print path\n",
    "#     #img = PImage.open(path)\n",
    "#     loadedImages.append(path)\n",
    "    \n",
    "# print len(loadedImages)\n",
    "#     print PImage.open?\n",
    "#     imagesList = listdir(path)\n",
    "#     img = PImage.open(path + )\n",
    "#     for image in imagesList:\n",
    "#         img = PImage.open(path + image)\n",
    "#         loadedImages.append(img)\n",
    "\n",
    "#     return loadedImages"
   ]
  },
  {
   "cell_type": "code",
   "execution_count": 10,
   "metadata": {},
   "outputs": [],
   "source": [
    "#     print PImage.open"
   ]
  },
  {
   "cell_type": "code",
   "execution_count": 11,
   "metadata": {},
   "outputs": [
    {
     "name": "stdout",
     "output_type": "stream",
     "text": [
      "{'boxes': array([[ array([[ (array([[ 488.42954942,  345.62261032]]), array([[ 461.57045058,  348.37738968]]), array([[ 465.57045058,  387.37738968]]), array([[ 492.42954942,  384.62261032]]))]],\n",
      "      dtype=[('a', 'O'), ('b', 'O'), ('c', 'O'), ('d', 'O')]),\n",
      "        array([[ (array([[ 449.81237318,  397.24488989]]), array([[ 462.18762682,  426.75511011]]), array([[ 493.18762682,  413.75511011]]), array([[ 480.81237318,  384.24488989]]))]],\n",
      "      dtype=[('a', 'O'), ('b', 'O'), ('c', 'O'), ('d', 'O')])]], dtype=object), '__version__': '1.0', '__header__': 'MATLAB 5.0 MAT-file, Platform: MACI, Created on: Mon Jul 18 17:41:20 2011', '__globals__': []}\n",
      "<type 'dict'>\n"
     ]
    }
   ],
   "source": [
    "print mats[0]\n",
    "print type(mats[0])"
   ]
  },
  {
   "cell_type": "code",
   "execution_count": 12,
   "metadata": {},
   "outputs": [
    {
     "name": "stdout",
     "output_type": "stream",
     "text": [
      "[[[[ (array([[ 488.42954942,  345.62261032]]), array([[ 461.57045058,  348.37738968]]), array([[ 465.57045058,  387.37738968]]), array([[ 492.42954942,  384.62261032]]))]]\n",
      "\n",
      "  [[ (array([[ 449.81237318,  397.24488989]]), array([[ 462.18762682,  426.75511011]]), array([[ 493.18762682,  413.75511011]]), array([[ 480.81237318,  384.24488989]]))]]]] --pp\n",
      "[[ (array([[ 488.42954942,  345.62261032]]), array([[ 461.57045058,  348.37738968]]), array([[ 465.57045058,  387.37738968]]), array([[ 492.42954942,  384.62261032]]))]] ------\n",
      "[[ (array([[ 449.81237318,  397.24488989]]), array([[ 462.18762682,  426.75511011]]), array([[ 493.18762682,  413.75511011]]), array([[ 480.81237318,  384.24488989]]))]] ------\n"
     ]
    }
   ],
   "source": [
    "# print mats[0]['boxes']\n",
    "full_list = []\n",
    "a = np.array((mats[0]['boxes']).tolist())\n",
    "print a,\"--pp\"\n",
    "for iterate in a:\n",
    "    for iterate2 in iterate:\n",
    "        print iterate2,\"------\"\n",
    "        full_list.append(np.array(iterate2))"
   ]
  },
  {
   "cell_type": "code",
   "execution_count": 13,
   "metadata": {},
   "outputs": [
    {
     "name": "stdout",
     "output_type": "stream",
     "text": [
      "[array([[ (array([[ 488.42954942,  345.62261032]]), array([[ 461.57045058,  348.37738968]]), array([[ 465.57045058,  387.37738968]]), array([[ 492.42954942,  384.62261032]]))]],\n",
      "      dtype=[('a', 'O'), ('b', 'O'), ('c', 'O'), ('d', 'O')]), array([[ (array([[ 449.81237318,  397.24488989]]), array([[ 462.18762682,  426.75511011]]), array([[ 493.18762682,  413.75511011]]), array([[ 480.81237318,  384.24488989]]))]],\n",
      "      dtype=[('a', 'O'), ('b', 'O'), ('c', 'O'), ('d', 'O')])]\n"
     ]
    }
   ],
   "source": [
    "print full_list"
   ]
  },
  {
   "cell_type": "code",
   "execution_count": null,
   "metadata": {},
   "outputs": [],
   "source": []
  },
  {
   "cell_type": "code",
   "execution_count": null,
   "metadata": {},
   "outputs": [],
   "source": []
  },
  {
   "cell_type": "code",
   "execution_count": null,
   "metadata": {},
   "outputs": [],
   "source": []
  },
  {
   "cell_type": "code",
   "execution_count": null,
   "metadata": {},
   "outputs": [],
   "source": []
  },
  {
   "cell_type": "code",
   "execution_count": null,
   "metadata": {},
   "outputs": [],
   "source": []
  },
  {
   "cell_type": "code",
   "execution_count": null,
   "metadata": {},
   "outputs": [],
   "source": []
  },
  {
   "cell_type": "code",
   "execution_count": null,
   "metadata": {},
   "outputs": [],
   "source": []
  },
  {
   "cell_type": "code",
   "execution_count": null,
   "metadata": {},
   "outputs": [],
   "source": []
  }
 ],
 "metadata": {
  "kernelspec": {
   "display_name": "Python 2",
   "language": "python",
   "name": "python2"
  },
  "language_info": {
   "codemirror_mode": {
    "name": "ipython",
    "version": 2
   },
   "file_extension": ".py",
   "mimetype": "text/x-python",
   "name": "python",
   "nbconvert_exporter": "python",
   "pygments_lexer": "ipython2",
   "version": "2.7.14"
  }
 },
 "nbformat": 4,
 "nbformat_minor": 2
}
