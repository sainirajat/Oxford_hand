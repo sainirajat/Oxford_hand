{
 "cells": [
  {
   "cell_type": "code",
   "execution_count": 1,
   "metadata": {},
   "outputs": [],
   "source": [
    "import numpy as np\n",
    "import scipy.io as sio\n",
    "import pandas as pd\n",
    "import os\n",
    "from PIL import Image as Pimage"
   ]
  },
  {
   "cell_type": "code",
   "execution_count": 2,
   "metadata": {},
   "outputs": [],
   "source": [
    "training_data_path = '/Users/rajatsaini/Downloads/Dataset/hand_dataset/training_dataset/training_data/annotations/'"
   ]
  },
  {
   "cell_type": "code",
   "execution_count": 3,
   "metadata": {},
   "outputs": [],
   "source": [
    "image_path = '/Users/rajatsaini/Downloads/Dataset/hand_dataset/training_dataset/training_data/images/'"
   ]
  },
  {
   "cell_type": "code",
   "execution_count": 4,
   "metadata": {},
   "outputs": [
    {
     "name": "stdout",
     "output_type": "stream",
     "text": [
      "4069\n"
     ]
    }
   ],
   "source": [
    "mats = []\n",
    "count = 0\n",
    "shapes = []\n",
    "for file_path in os.listdir(training_data_path):\n",
    "    if file_path.startswith('.'):\n",
    "        continue\n",
    "    data = sio.loadmat(training_data_path+file_path)\n",
    "    mats.append(data)\n",
    "print len(mats)"
   ]
  },
  {
   "cell_type": "code",
   "execution_count": 5,
   "metadata": {},
   "outputs": [
    {
     "name": "stdout",
     "output_type": "stream",
     "text": [
      "{'boxes': array([[ array([[ (array([[ 488.42954942,  345.62261032]]), array([[ 461.57045058,  348.37738968]]), array([[ 465.57045058,  387.37738968]]), array([[ 492.42954942,  384.62261032]]))]],\n",
      "      dtype=[('a', 'O'), ('b', 'O'), ('c', 'O'), ('d', 'O')]),\n",
      "        array([[ (array([[ 449.81237318,  397.24488989]]), array([[ 462.18762682,  426.75511011]]), array([[ 493.18762682,  413.75511011]]), array([[ 480.81237318,  384.24488989]]))]],\n",
      "      dtype=[('a', 'O'), ('b', 'O'), ('c', 'O'), ('d', 'O')])]], dtype=object), '__version__': '1.0', '__header__': 'MATLAB 5.0 MAT-file, Platform: MACI, Created on: Mon Jul 18 17:41:20 2011', '__globals__': []}\n"
     ]
    }
   ],
   "source": [
    "print mats[0]"
   ]
  },
  {
   "cell_type": "code",
   "execution_count": 6,
   "metadata": {},
   "outputs": [
    {
     "name": "stdout",
     "output_type": "stream",
     "text": [
      "4069\n"
     ]
    }
   ],
   "source": [
    "images = []\n",
    "paths = []\n",
    "for path in os.listdir(image_path):\n",
    "    if path.startswith('.'):\n",
    "        continue\n",
    "    data = path \n",
    "    paths.append(image_path+data)\n",
    "    img = Pimage.open(image_path+data,mode='r')\n",
    "    shapes.append(img.size)\n",
    "    img.close()\n",
    "    images.append(data)\n",
    "print len(images)"
   ]
  },
  {
   "cell_type": "code",
   "execution_count": 7,
   "metadata": {},
   "outputs": [
    {
     "name": "stdout",
     "output_type": "stream",
     "text": [
      "[(618, 707), (511, 585), (555, 563), (517, 589), (571, 589), (601, 617), (568, 699), (585, 677), (604, 698), (581, 688)]\n"
     ]
    }
   ],
   "source": [
    "print shapes[:10]"
   ]
  },
  {
   "cell_type": "code",
   "execution_count": 8,
   "metadata": {},
   "outputs": [],
   "source": [
    "new_mats = []\n",
    "\n",
    "for ix in range(len(mats)):\n",
    "    temp = mats[ix]['boxes']\n",
    "    new_mats.append(temp)\n",
    "    "
   ]
  },
  {
   "cell_type": "code",
   "execution_count": 9,
   "metadata": {},
   "outputs": [
    {
     "name": "stdout",
     "output_type": "stream",
     "text": [
      "(4069,)\n"
     ]
    }
   ],
   "source": [
    "hands = []\n",
    "very_new_mats = np.zeros(len(new_mats))\n",
    "print very_new_mats.shape\n",
    "\n",
    "for ix in range(len(new_mats)):\n",
    "    cells=[]\n",
    "    for cell in new_mats[ix].flat:\n",
    "        count = count + 1\n",
    "        cells.append(cell)\n",
    "    hands.append(cells)"
   ]
  },
  {
   "cell_type": "code",
   "execution_count": 10,
   "metadata": {},
   "outputs": [
    {
     "name": "stdout",
     "output_type": "stream",
     "text": [
      "2\n",
      "[array([[ (array([[ 488.42954942,  345.62261032]]), array([[ 461.57045058,  348.37738968]]), array([[ 465.57045058,  387.37738968]]), array([[ 492.42954942,  384.62261032]]))]],\n",
      "      dtype=[('a', 'O'), ('b', 'O'), ('c', 'O'), ('d', 'O')]), array([[ (array([[ 449.81237318,  397.24488989]]), array([[ 462.18762682,  426.75511011]]), array([[ 493.18762682,  413.75511011]]), array([[ 480.81237318,  384.24488989]]))]],\n",
      "      dtype=[('a', 'O'), ('b', 'O'), ('c', 'O'), ('d', 'O')])]\n"
     ]
    }
   ],
   "source": [
    "print len(hands[0])\n",
    "print hands[0]"
   ]
  },
  {
   "cell_type": "code",
   "execution_count": 11,
   "metadata": {},
   "outputs": [
    {
     "name": "stdout",
     "output_type": "stream",
     "text": [
      "/Users/rajatsaini/Downloads/Dataset/hand_dataset/training_dataset/training_data/images/Buffy_1.jpg\n"
     ]
    }
   ],
   "source": [
    "print paths[0]"
   ]
  },
  {
   "cell_type": "code",
   "execution_count": 12,
   "metadata": {},
   "outputs": [],
   "source": [
    "new_images = []\n",
    "for ix in paths:\n",
    "    temp = ix.split('/')\n",
    "#     print temp\n",
    "    temp2 = '/'.join(temp[5:])\n",
    "    new_images.append(temp2)"
   ]
  },
  {
   "cell_type": "code",
   "execution_count": 13,
   "metadata": {},
   "outputs": [
    {
     "name": "stdout",
     "output_type": "stream",
     "text": [
      "hand_dataset/training_dataset/training_data/images/Buffy_1.jpg\n"
     ]
    }
   ],
   "source": [
    "print new_images[0]"
   ]
  },
  {
   "cell_type": "code",
   "execution_count": 14,
   "metadata": {},
   "outputs": [],
   "source": [
    "def find_min_max_height_width(a1,a2,a3,a4):\n",
    "    max_y = max(a1[1],a2[1],a3[1],a4[1])\n",
    "    max_x = max(a1[0],a2[0],a3[0],a4[0])\n",
    "    min_y = min(a1[1],a2[1],a3[1],a4[1])\n",
    "    min_x = min(a1[0],a2[0],a3[0],a4[0])\n",
    "    \n",
    "    height = max_y-min_y\n",
    "    width = max_x-min_x\n",
    "    return min_x,max_y,height,width"
   ]
  },
  {
   "cell_type": "code",
   "execution_count": 15,
   "metadata": {},
   "outputs": [],
   "source": [
    "f= open(\"Oxford_train.txt\",\"w+\")"
   ]
  },
  {
   "cell_type": "code",
   "execution_count": 16,
   "metadata": {},
   "outputs": [],
   "source": [
    "for ix in range(len(hands)):\n",
    "    f.write(new_images[ix])\n",
    "    f.write(str(shapes[ix]))\n",
    "    for ip in hands[ix]:\n",
    "        for ipp in ip[0][0]['a']:\n",
    "            aa1 = ipp\n",
    "        for ipp in ip[0][0]['b']:\n",
    "            aa2 = ipp\n",
    "        for ipp in ip[0][0]['c']:\n",
    "            aa3 = ipp\n",
    "        for ipp in ip[0][0]['d']:\n",
    "            aa4 = ipp\n",
    "        min_x,max_y,height,width=find_min_max_height_width(aa1,aa2,aa3,aa4)\n",
    "        f.write(str(min_x)+\",\"+str(max_y)+\",\"+str(height)+\",\"+str(width)+\";\")\n",
    "    f.write(\"\\n\")\n",
    "f.close()"
   ]
  },
  {
   "cell_type": "code",
   "execution_count": null,
   "metadata": {},
   "outputs": [],
   "source": []
  },
  {
   "cell_type": "code",
   "execution_count": null,
   "metadata": {},
   "outputs": [],
   "source": []
  },
  {
   "cell_type": "code",
   "execution_count": null,
   "metadata": {},
   "outputs": [],
   "source": []
  },
  {
   "cell_type": "code",
   "execution_count": null,
   "metadata": {},
   "outputs": [],
   "source": []
  },
  {
   "cell_type": "code",
   "execution_count": 43,
   "metadata": {},
   "outputs": [],
   "source": [
    "testing_file_path = '/Users/rajatsaini/Downloads/Dataset/hand_dataset/test_dataset/test_data/annotations/'\n",
    "testing_images_path = '/Users/rajatsaini/Downloads/Dataset/hand_dataset/test_dataset/test_data/images/'"
   ]
  },
  {
   "cell_type": "code",
   "execution_count": 47,
   "metadata": {},
   "outputs": [
    {
     "name": "stdout",
     "output_type": "stream",
     "text": [
      "hand_dataset/training_dataset/training_data/images/VOC2007_1.jpg\n",
      "821\n"
     ]
    }
   ],
   "source": [
    "testing_images=[]\n",
    "shapes = []\n",
    "for ix in os.listdir(testing_images_path):\n",
    "    if ix.startswith('.'):\n",
    "        continue\n",
    "    testing_images.append(\"hand_dataset/training_dataset/training_data/images/\"+str(ix))\n",
    "    img = Pimage.open(testing_images_path+ix,mode='r')\n",
    "    shapes.append(img.size)\n",
    "    img.close()\n",
    "print testing_images[0]\n",
    "print len(testing_images)"
   ]
  },
  {
   "cell_type": "code",
   "execution_count": 49,
   "metadata": {},
   "outputs": [
    {
     "name": "stdout",
     "output_type": "stream",
     "text": [
      "821\n"
     ]
    }
   ],
   "source": [
    "# working on mat file\n",
    "mats = []\n",
    "for ix in os.listdir(testing_file_path):\n",
    "    if ix.startswith('.'):\n",
    "        continue\n",
    "    data = sio.loadmat(testing_file_path+ix)\n",
    "    mats.append(data)\n",
    "print len(mats)"
   ]
  },
  {
   "cell_type": "code",
   "execution_count": 50,
   "metadata": {},
   "outputs": [
    {
     "name": "stdout",
     "output_type": "stream",
     "text": [
      "(821,)\n",
      "[array([[ (array([[ 277.17641528,  392.31264669]]), array([[ 296.94449976,  410.70348234]]), array([[ 316.85334049,  389.30371276]]), array([[ 297.08525601,  370.9128771 ]]), array([u'L'],\n",
      "      dtype='<U1'), array([], shape=(0, 0), dtype=uint8))]],\n",
      "      dtype=[('a', 'O'), ('b', 'O'), ('c', 'O'), ('d', 'O'), ('handtype', 'O'), ('truncated', 'O')]), array([[ (array([[ 172.31843252,  216.90699639]]), array([[ 166.50836487,  232.88332619]]), array([[ 189.7926786 ,  241.35106813]]), array([[ 195.60274624,  225.37473832]]), array([u'R'],\n",
      "      dtype='<U1'), array([], shape=(0, 0), dtype=uint8))]],\n",
      "      dtype=[('a', 'O'), ('b', 'O'), ('c', 'O'), ('d', 'O'), ('handtype', 'O'), ('truncated', 'O')])]\n"
     ]
    }
   ],
   "source": [
    "# working on mat file\n",
    "new_mats = []\n",
    "\n",
    "for ix in range(len(mats)):\n",
    "    temp = mats[ix]['boxes']\n",
    "    new_mats.append(temp)\n",
    "    \n",
    "hands = []\n",
    "very_new_mats = np.zeros(len(new_mats))\n",
    "print very_new_mats.shape\n",
    "\n",
    "for ix in range(len(new_mats)):\n",
    "    cells=[]\n",
    "    for cell in new_mats[ix].flat:\n",
    "        count = count + 1\n",
    "        cells.append(cell)\n",
    "    hands.append(cells)\n",
    "print hands[0]"
   ]
  },
  {
   "cell_type": "code",
   "execution_count": 51,
   "metadata": {},
   "outputs": [],
   "source": [
    "f= open(\"Oxford_test.txt\",\"w+\")"
   ]
  },
  {
   "cell_type": "code",
   "execution_count": 52,
   "metadata": {},
   "outputs": [
    {
     "name": "stdout",
     "output_type": "stream",
     "text": [
      "['hand_dataset/training_dataset/training_data/images/VOC2007_1.jpg', 'hand_dataset/training_dataset/training_data/images/VOC2007_10.jpg', 'hand_dataset/training_dataset/training_data/images/VOC2007_100.jpg', 'hand_dataset/training_dataset/training_data/images/VOC2007_101.jpg', 'hand_dataset/training_dataset/training_data/images/VOC2007_102.jpg', 'hand_dataset/training_dataset/training_data/images/VOC2007_103.jpg', 'hand_dataset/training_dataset/training_data/images/VOC2007_104.jpg', 'hand_dataset/training_dataset/training_data/images/VOC2007_105.jpg', 'hand_dataset/training_dataset/training_data/images/VOC2007_106.jpg', 'hand_dataset/training_dataset/training_data/images/VOC2007_107.jpg']\n"
     ]
    }
   ],
   "source": [
    "print testing_images[:10]"
   ]
  },
  {
   "cell_type": "code",
   "execution_count": 53,
   "metadata": {},
   "outputs": [],
   "source": [
    "for ix in range(len(hands)):\n",
    "    f.write(str(testing_images[ix]))\n",
    "    f.write(str(shapes[ix]))\n",
    "    for ip in hands[ix]:\n",
    "        for ipp in ip[0][0]['a']:\n",
    "            aa1 = ipp\n",
    "        for ipp in ip[0][0]['b']:\n",
    "            aa2 = ipp\n",
    "        for ipp in ip[0][0]['c']:\n",
    "            aa3 = ipp\n",
    "        for ipp in ip[0][0]['d']:\n",
    "            aa4 = ipp\n",
    "        min_x,max_y,height,width=find_min_max_height_width(aa1,aa2,aa3,aa4)\n",
    "        f.write(str(min_x)+\",\"+str(max_y)+\",\"+str(height)+\",\"+str(width)+\";\")\n",
    "    f.write(\"\\n\")\n",
    "f.close()"
   ]
  },
  {
   "cell_type": "code",
   "execution_count": null,
   "metadata": {},
   "outputs": [],
   "source": []
  },
  {
   "cell_type": "code",
   "execution_count": null,
   "metadata": {},
   "outputs": [],
   "source": []
  },
  {
   "cell_type": "code",
   "execution_count": 54,
   "metadata": {},
   "outputs": [],
   "source": [
    "validation_file_path = '/Users/rajatsaini/Downloads/Dataset/hand_dataset/validation_dataset/validation_data/annotations/'\n",
    "validation_images_path = '/Users/rajatsaini/Downloads/Dataset/hand_dataset/validation_dataset/validation_data/images/'"
   ]
  },
  {
   "cell_type": "code",
   "execution_count": 56,
   "metadata": {},
   "outputs": [
    {
     "name": "stdout",
     "output_type": "stream",
     "text": [
      "hand_dataset/validation_dataset/validation_data/images/Movie_4weds_1.jpg\n",
      "738\n"
     ]
    }
   ],
   "source": [
    "validation_images=[]\n",
    "shapes = []\n",
    "for ix in os.listdir(validation_images_path):\n",
    "    if ix.startswith('.'):\n",
    "        continue\n",
    "    validation_images.append(\"hand_dataset/validation_dataset/validation_data/images/\"+str(ix))\n",
    "    img = Pimage.open(validation_images_path+ix,mode='r')\n",
    "    shapes.append(img.size)\n",
    "    img.close()\n",
    "print validation_images[0]\n",
    "print len(validation_images)"
   ]
  },
  {
   "cell_type": "code",
   "execution_count": 58,
   "metadata": {},
   "outputs": [
    {
     "name": "stdout",
     "output_type": "stream",
     "text": [
      "738\n"
     ]
    }
   ],
   "source": [
    "# working on mat file\n",
    "mats = []\n",
    "for ix in os.listdir(validation_file_path):\n",
    "    if ix.startswith('.'):\n",
    "        continue\n",
    "    data = sio.loadmat(validation_file_path+ix)\n",
    "    mats.append(data)\n",
    "print len(mats)"
   ]
  },
  {
   "cell_type": "code",
   "execution_count": 59,
   "metadata": {},
   "outputs": [
    {
     "name": "stdout",
     "output_type": "stream",
     "text": [
      "(738,)\n",
      "[array([[ (array([[ 307.84303723,  440.70895047]]), array([[ 316.84527446,  455.12975921]]), array([[ 336.4816381 ,  442.87169469]]), array([[ 327.47940086,  428.45088595]]), array([u'L'],\n",
      "      dtype='<U1'), array([], shape=(0, 0), dtype=uint8))]],\n",
      "      dtype=[('a', 'O'), ('b', 'O'), ('c', 'O'), ('d', 'O'), ('handtype', 'O'), ('truncated', 'O')]), array([[ (array([[ 299.02385059,  576.01146474]]), array([[ 316.31381175,  562.4078901 ]]), array([[ 298.54757798,  539.82724494]]), array([[ 281.25761682,  553.43081958]]), array([u'R'],\n",
      "      dtype='<U1'), array([], shape=(0, 0), dtype=uint8))]],\n",
      "      dtype=[('a', 'O'), ('b', 'O'), ('c', 'O'), ('d', 'O'), ('handtype', 'O'), ('truncated', 'O')]), array([[ (array([[ 326.80675948,  634.30918202]]), array([[ 340.89453922,  651.20694702]]), array([[ 363.33609766,  632.4972696 ]]), array([[ 349.24831792,  615.5995046 ]]), array([u'L'],\n",
      "      dtype='<U1'), array([], shape=(0, 0), dtype=uint8))]],\n",
      "      dtype=[('a', 'O'), ('b', 'O'), ('c', 'O'), ('d', 'O'), ('handtype', 'O'), ('truncated', 'O')]), array([[ (array([[ 326.06165683,  664.07467419]]), array([[ 309.84743408,  669.18339033]]), array([[ 314.52275876,  684.02210001]]), array([[ 330.7369815 ,  678.91338386]]), array([u'R'],\n",
      "      dtype='<U1'), array([], shape=(0, 0), dtype=uint8))]],\n",
      "      dtype=[('a', 'O'), ('b', 'O'), ('c', 'O'), ('d', 'O'), ('handtype', 'O'), ('truncated', 'O')]), array([[ (array([[ 300.14329874,  688.39218593]]), array([[ 317.06449346,  690.0271689 ]]), array([[ 318.93462333,  670.67233019]]), array([[ 302.01342861,  669.03734722]]), array([u'L'],\n",
      "      dtype='<U1'), array([], shape=(0, 0), dtype=uint8))]],\n",
      "      dtype=[('a', 'O'), ('b', 'O'), ('c', 'O'), ('d', 'O'), ('handtype', 'O'), ('truncated', 'O')])]\n"
     ]
    }
   ],
   "source": [
    "new_mats = []\n",
    "\n",
    "for ix in range(len(mats)):\n",
    "    temp = mats[ix]['boxes']\n",
    "    new_mats.append(temp)\n",
    "    \n",
    "hands = []\n",
    "very_new_mats = np.zeros(len(new_mats))\n",
    "print very_new_mats.shape\n",
    "\n",
    "for ix in range(len(new_mats)):\n",
    "    cells=[]\n",
    "    for cell in new_mats[ix].flat:\n",
    "        count = count + 1\n",
    "        cells.append(cell)\n",
    "    hands.append(cells)\n",
    "print hands[0]"
   ]
  },
  {
   "cell_type": "code",
   "execution_count": 60,
   "metadata": {},
   "outputs": [],
   "source": [
    "f= open(\"Oxford_validation.txt\",\"w+\")"
   ]
  },
  {
   "cell_type": "code",
   "execution_count": 61,
   "metadata": {},
   "outputs": [],
   "source": [
    "for ix in range(len(hands)):\n",
    "    f.write(str(validation_images[ix]))\n",
    "    f.write(str(shapes[ix]))\n",
    "    for ip in hands[ix]:\n",
    "        for ipp in ip[0][0]['a']:\n",
    "            aa1 = ipp\n",
    "        for ipp in ip[0][0]['b']:\n",
    "            aa2 = ipp\n",
    "        for ipp in ip[0][0]['c']:\n",
    "            aa3 = ipp\n",
    "        for ipp in ip[0][0]['d']:\n",
    "            aa4 = ipp\n",
    "        min_x,max_y,height,width=find_min_max_height_width(aa1,aa2,aa3,aa4)\n",
    "        f.write(str(min_x)+\",\"+str(max_y)+\",\"+str(height)+\",\"+str(width)+\";\")\n",
    "    f.write(\"\\n\")\n",
    "f.close()"
   ]
  },
  {
   "cell_type": "code",
   "execution_count": null,
   "metadata": {},
   "outputs": [],
   "source": []
  }
 ],
 "metadata": {
  "kernelspec": {
   "display_name": "Python 2",
   "language": "python",
   "name": "python2"
  },
  "language_info": {
   "codemirror_mode": {
    "name": "ipython",
    "version": 2
   },
   "file_extension": ".py",
   "mimetype": "text/x-python",
   "name": "python",
   "nbconvert_exporter": "python",
   "pygments_lexer": "ipython2",
   "version": "2.7.14"
  }
 },
 "nbformat": 4,
 "nbformat_minor": 2
}
