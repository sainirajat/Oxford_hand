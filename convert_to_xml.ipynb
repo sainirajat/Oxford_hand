{
 "cells": [
  {
   "cell_type": "code",
   "execution_count": 9,
   "metadata": {},
   "outputs": [],
   "source": [
    "import os,sys,shutil,glob,argparse\n",
    "import numpy as np\n",
    "from PIL import Image\n",
    "from lxml import etree\n",
    "import cv2"
   ]
  },
  {
   "cell_type": "code",
   "execution_count": 19,
   "metadata": {},
   "outputs": [],
   "source": [
    "voc=\"./VOC_OxfordHandDataset/\"\n",
    "fashion_dataset_path = './annotation'"
   ]
  },
  {
   "cell_type": "code",
   "execution_count": 11,
   "metadata": {},
   "outputs": [],
   "source": [
    "def make_directories():\n",
    "    if os.path.exists(voc):\n",
    "        prompt = raw_input('directory already exist. overwrite? (yes,no):')\n",
    "        if prompt == 'no':\n",
    "            exit(0)\n",
    "        shutil.rmtree(voc)\n",
    "    os.makedirs(voc)\n",
    "    os.makedirs(voc+\"Annotations\")\n",
    "    os.makedirs(voc+\"ImageSets\")\n",
    "    os.makedirs(voc+\"ImageSet/Layout\")\n",
    "    os.makedirs(voc+\"JPEGImages\")"
   ]
  },
  {
   "cell_type": "code",
   "execution_count": 29,
   "metadata": {},
   "outputs": [],
   "source": [
    "def write_voc_file(fname,label,coord,img_width,img_height):\n",
    "    annotation = etree.Element('annotation')\n",
    "    filename = etree.Element('filename')\n",
    "    filename.text = fname\n",
    "    annotation.append(filename)\n",
    "    folder = etree.Element('folder')\n",
    "    folder.text = \"Hands\"\n",
    "    annotation.append(folder)\n",
    "    object = etree.Element('object')\n",
    "    annotation.append(object)\n",
    "    name = etree.Element('name')\n",
    "    name.text = label\n",
    "    object.append(name)\n",
    "    bndbox = etree.Element('bndbox')\n",
    "    object.append(bndbox)\n",
    "    xmax = etree.Element('xmax')\n",
    "    xmax.text = str(coord[2])\n",
    "    bndbox.append(xmax)\n",
    "    xmin = etree.Element('xmin')\n",
    "    xmin.text = str(coord[0])\n",
    "    bndbox.append(xmin)\n",
    "    ymax = etree.Element('ymax')\n",
    "    ymax.text = str(coord[3])\n",
    "    bndbox.append(ymax)\n",
    "    ymin = etree.Element('ymin')\n",
    "    ymin.text = str(coord[1])\n",
    "    bndbox.append(ymin)\n",
    "    difficult = etree.Element('difficult')\n",
    "    difficult.text = '0'\n",
    "    object.append(difficult)\n",
    "    occluded = etree.Element('occluded')\n",
    "    occluded.text = '0'\n",
    "    object.append(occluded)\n",
    "    pose = etree.Element('pose')\n",
    "    pose.text = 'Unspecified'\n",
    "    object.append(pose)\n",
    "    truncated = etree.Element('truncated')\n",
    "    truncated.text = '1'\n",
    "    object.append(truncated)\n",
    "    img_size = etree.Element('size')\n",
    "    annotation.append(img_size)\n",
    "    depth = etree.Element('depth')\n",
    "    depth.text = '3'\n",
    "    img_size.append(depth)\n",
    "    height = etree.Element('height')\n",
    "    height.text = str(img_height)\n",
    "    img_size.append(height)\n",
    "    width = etree.Element('width')\n",
    "    width.text = str(img_width)\n",
    "    img_size.append(width)\n",
    "\n",
    "    return annotation\n",
    "    "
   ]
  },
  {
   "cell_type": "code",
   "execution_count": 30,
   "metadata": {},
   "outputs": [],
   "source": [
    "# ###TEST Function\n",
    "# fname=\"one_hand001\"\n",
    "# label=\"top\"\n",
    "# coord=[10,20,30,40]\n",
    "# img_width=100\n",
    "# img_height=300\n",
    "# annotation = write_voc_file(fname,label ,coord , img_width,img_height)\n",
    "# et = etree.ElementTree(annotation)\n",
    "# et.write(voc + \"Annotations/\" + fname + \".xml\", pretty_print=True)"
   ]
  },
  {
   "cell_type": "code",
   "execution_count": 31,
   "metadata": {},
   "outputs": [],
   "source": [
    "def get_Category_dict():\n",
    "    with open(fashion_dataset_path ) as category_file:\n",
    "        next(category_file)\n",
    "        next(category_file)\n",
    "        category_dict=dict()\n",
    "        index=0\n",
    "        for line in category_file:\n",
    "            index+=1\n",
    "            line=line.split()\n",
    "            category_dict[index]=dict()\n",
    "            category_dict[index]['item']=line[0]\n",
    "            typ=int(line[1])\n",
    "            if typ==1:\n",
    "                category_dict[index]['type']=\"Upper_Body\"\n",
    "            elif typ==2:\n",
    "                category_dict[index]['type']=\"Lower_Body\"\n",
    "            elif typ==3:\n",
    "                category_dict[index]['type']=\"Full_Body\"\n",
    "            else:\n",
    "                category_dict[index]['type']=\"Undefined\"\n",
    "    return category_dict        \n"
   ]
  },
  {
   "cell_type": "code",
   "execution_count": 38,
   "metadata": {},
   "outputs": [],
   "source": [
    "import pickle\n",
    "def save_Category_img():\n",
    "    if os.path.isfile(fashion_dataset_path):\n",
    "        return\n",
    "    with open(fashion_dataset_path +\".txt\") as category_file:\n",
    "        next(category_file)\n",
    "        next(category_file)\n",
    "        category_dict=dict()\n",
    "        index=0\n",
    "        for line in category_file:\n",
    "            line=line.split()\n",
    "            category_dict[line[0]]=int(line[1])\n",
    "    pickle.dump(category_dict,open(fashion_dataset_path,'wb'))\n",
    "    \n"
   ]
  },
  {
   "cell_type": "code",
   "execution_count": 39,
   "metadata": {},
   "outputs": [
    {
     "name": "stdout",
     "output_type": "stream",
     "text": [
      "directory already exist. overwrite? (yes,no):yes\n"
     ]
    },
    {
     "ename": "IndexError",
     "evalue": "list index out of range",
     "output_type": "error",
     "traceback": [
      "\u001b[0;31m---------------------------------------------------------------------------\u001b[0m",
      "\u001b[0;31mIndexError\u001b[0m                                Traceback (most recent call last)",
      "\u001b[0;32m<ipython-input-39-e37cae076a22>\u001b[0m in \u001b[0;36m<module>\u001b[0;34m()\u001b[0m\n\u001b[1;32m     36\u001b[0m                     \u001b[0;32mprint\u001b[0m\u001b[0;34m(\u001b[0m\u001b[0mstr\u001b[0m\u001b[0;34m(\u001b[0m\u001b[0mcnt\u001b[0m\u001b[0;34m)\u001b[0m\u001b[0;34m+\u001b[0m\u001b[0;34m\" /390 files completed...\"\u001b[0m\u001b[0;34m)\u001b[0m\u001b[0;34m\u001b[0m\u001b[0m\n\u001b[1;32m     37\u001b[0m         \u001b[0;32mprint\u001b[0m \u001b[0;34m\"Total count=\"\u001b[0m\u001b[0;34m+\u001b[0m\u001b[0mstr\u001b[0m\u001b[0;34m(\u001b[0m\u001b[0mcnt\u001b[0m\u001b[0;34m)\u001b[0m\u001b[0;34m\u001b[0m\u001b[0m\n\u001b[0;32m---> 38\u001b[0;31m \u001b[0mgenerate_dataset\u001b[0m\u001b[0;34m(\u001b[0m\u001b[0;34m)\u001b[0m\u001b[0;34m\u001b[0m\u001b[0m\n\u001b[0m\u001b[1;32m     39\u001b[0m \u001b[0;34m\u001b[0m\u001b[0m\n\u001b[1;32m     40\u001b[0m \u001b[0;34m\u001b[0m\u001b[0m\n",
      "\u001b[0;32m<ipython-input-39-e37cae076a22>\u001b[0m in \u001b[0;36mgenerate_dataset\u001b[0;34m()\u001b[0m\n\u001b[1;32m      2\u001b[0m     \u001b[0mcount\u001b[0m\u001b[0;34m=\u001b[0m\u001b[0;36m0\u001b[0m\u001b[0;34m\u001b[0m\u001b[0m\n\u001b[1;32m      3\u001b[0m     \u001b[0mmake_directories\u001b[0m\u001b[0;34m(\u001b[0m\u001b[0;34m)\u001b[0m\u001b[0;34m\u001b[0m\u001b[0m\n\u001b[0;32m----> 4\u001b[0;31m     \u001b[0msave_Category_img\u001b[0m\u001b[0;34m(\u001b[0m\u001b[0;34m)\u001b[0m\u001b[0;34m\u001b[0m\u001b[0m\n\u001b[0m\u001b[1;32m      5\u001b[0m \u001b[0;34m\u001b[0m\u001b[0m\n\u001b[1;32m      6\u001b[0m     \u001b[0mcategory_dict\u001b[0m\u001b[0;34m=\u001b[0m\u001b[0mget_Category_dict\u001b[0m\u001b[0;34m(\u001b[0m\u001b[0;34m)\u001b[0m\u001b[0;34m\u001b[0m\u001b[0m\n",
      "\u001b[0;32m<ipython-input-38-81f875a3b156>\u001b[0m in \u001b[0;36msave_Category_img\u001b[0;34m()\u001b[0m\n\u001b[1;32m     10\u001b[0m         \u001b[0;32mfor\u001b[0m \u001b[0mline\u001b[0m \u001b[0;32min\u001b[0m \u001b[0mcategory_file\u001b[0m\u001b[0;34m:\u001b[0m\u001b[0;34m\u001b[0m\u001b[0m\n\u001b[1;32m     11\u001b[0m             \u001b[0mline\u001b[0m\u001b[0;34m=\u001b[0m\u001b[0mline\u001b[0m\u001b[0;34m.\u001b[0m\u001b[0msplit\u001b[0m\u001b[0;34m(\u001b[0m\u001b[0;34m)\u001b[0m\u001b[0;34m\u001b[0m\u001b[0m\n\u001b[0;32m---> 12\u001b[0;31m             \u001b[0mcategory_dict\u001b[0m\u001b[0;34m[\u001b[0m\u001b[0mline\u001b[0m\u001b[0;34m[\u001b[0m\u001b[0;36m0\u001b[0m\u001b[0;34m]\u001b[0m\u001b[0;34m]\u001b[0m\u001b[0;34m=\u001b[0m\u001b[0mint\u001b[0m\u001b[0;34m(\u001b[0m\u001b[0mline\u001b[0m\u001b[0;34m[\u001b[0m\u001b[0;36m1\u001b[0m\u001b[0;34m]\u001b[0m\u001b[0;34m)\u001b[0m\u001b[0;34m\u001b[0m\u001b[0m\n\u001b[0m\u001b[1;32m     13\u001b[0m     \u001b[0mpickle\u001b[0m\u001b[0;34m.\u001b[0m\u001b[0mdump\u001b[0m\u001b[0;34m(\u001b[0m\u001b[0mcategory_dict\u001b[0m\u001b[0;34m,\u001b[0m\u001b[0mopen\u001b[0m\u001b[0;34m(\u001b[0m\u001b[0mfashion_dataset_path\u001b[0m\u001b[0;34m,\u001b[0m\u001b[0;34m'wb'\u001b[0m\u001b[0;34m)\u001b[0m\u001b[0;34m)\u001b[0m\u001b[0;34m\u001b[0m\u001b[0m\n\u001b[1;32m     14\u001b[0m \u001b[0;34m\u001b[0m\u001b[0m\n",
      "\u001b[0;31mIndexError\u001b[0m: list index out of range"
     ]
    }
   ],
   "source": [
    "def generate_dataset():\n",
    "    count=0\n",
    "    make_directories()\n",
    "    save_Category_img()\n",
    "    \n",
    "    category_dict=get_Category_dict()\n",
    "    with open(fashion_dataset_path ) as list_bbox:\n",
    "        next(list_bbox)\n",
    "        next(list_bbox)\n",
    "        imgCategory=pickle.load(open(fashion_dataset_path,'rb'))\n",
    "        cnt=0\n",
    "        for line in list_bbox:\n",
    "                line = line[:-1].split()\n",
    "                line=\" \".join(line)\n",
    "                line=line.split(' ')\n",
    "                image_path_name = line[0]\n",
    "                image_name = line[0].split('/')[-1]\n",
    "                fname = line[0].replace('/', '_')\n",
    "                coord=[]\n",
    "                coord.append(int(line[1]))\n",
    "                coord.append(int(line[2]))\n",
    "                coord.append(int(line[3]))\n",
    "                coord.append(int(line[4]))\n",
    "                path=fashion_dataset_path+\"Img/\"+image_path_name\n",
    "                if os.path.isfile(path)==False:\n",
    "                    continue\n",
    "                img = cv2.imread(path)\n",
    "                img_height, img_width = img.shape[:2]\n",
    "                shutil.copy(path,voc+\"JPEGImages/\"+fname)\n",
    "                label=category_dict[imgCategory[image_path_name]]['type']\n",
    "                annotation = write_voc_file(fname,label ,coord , img_width,img_height)\n",
    "                et = etree.ElementTree(annotation)\n",
    "                et.write(voc + \"Annotations/\" + fname + \".xml\", pretty_print=True)                    \n",
    "                cnt+=1\n",
    "                if(cnt%10==0):\n",
    "                    print(str(cnt)+\" /390 files completed...\")\n",
    "        print \"Total count=\"+str(cnt)\n",
    "generate_dataset()\n",
    "\n",
    "\n"
   ]
  },
  {
   "cell_type": "code",
   "execution_count": null,
   "metadata": {},
   "outputs": [],
   "source": []
  },
  {
   "cell_type": "code",
   "execution_count": null,
   "metadata": {},
   "outputs": [],
   "source": []
  }
 ],
 "metadata": {
  "kernelspec": {
   "display_name": "Python 2",
   "language": "python",
   "name": "python2"
  },
  "language_info": {
   "codemirror_mode": {
    "name": "ipython",
    "version": 2
   },
   "file_extension": ".py",
   "mimetype": "text/x-python",
   "name": "python",
   "nbconvert_exporter": "python",
   "pygments_lexer": "ipython2",
   "version": "2.7.14"
  }
 },
 "nbformat": 4,
 "nbformat_minor": 2
}
